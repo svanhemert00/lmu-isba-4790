{
  "nbformat": 4,
  "nbformat_minor": 0,
  "metadata": {
    "colab": {
      "name": "ML In-Class Code: Decision Tree & Random Forest.ipynb",
      "provenance": [],
      "collapsed_sections": [],
      "include_colab_link": true
    },
    "kernelspec": {
      "name": "python3",
      "display_name": "Python 3"
    },
    "language_info": {
      "name": "python"
    }
  },
  "cells": [
    {
      "cell_type": "markdown",
      "metadata": {
        "id": "view-in-github",
        "colab_type": "text"
      },
      "source": [
        "<a href=\"https://colab.research.google.com/github/svanhemert00/lmu-isba-4790/blob/main/ML%20In-Class%20Code%3A%20Decision%20Tree%20%26%20Random%20Forest.ipynb\" target=\"_parent\"><img src=\"https://colab.research.google.com/assets/colab-badge.svg\" alt=\"Open In Colab\"/></a>"
      ]
    },
    {
      "cell_type": "code",
      "execution_count": 1,
      "metadata": {
        "colab": {
          "base_uri": "https://localhost:8080/"
        },
        "id": "2so6GdjUFkKX",
        "outputId": "111483cb-bfd0-48e6-f3fc-f7ec074c692b"
      },
      "outputs": [
        {
          "output_type": "stream",
          "name": "stdout",
          "text": [
            "<class 'pandas.core.frame.DataFrame'>\n",
            "RangeIndex: 768 entries, 0 to 767\n",
            "Data columns (total 9 columns):\n",
            " #   Column                    Non-Null Count  Dtype  \n",
            "---  ------                    --------------  -----  \n",
            " 0   Pregnancies               768 non-null    int64  \n",
            " 1   Glucose                   768 non-null    int64  \n",
            " 2   BloodPressure             768 non-null    int64  \n",
            " 3   SkinThickness             768 non-null    int64  \n",
            " 4   Insulin                   768 non-null    int64  \n",
            " 5   BMI                       768 non-null    float64\n",
            " 6   DiabetesPedigreeFunction  768 non-null    float64\n",
            " 7   Age                       768 non-null    int64  \n",
            " 8   Outcome                   768 non-null    int64  \n",
            "dtypes: float64(2), int64(7)\n",
            "memory usage: 54.1 KB\n"
          ]
        },
        {
          "output_type": "execute_result",
          "data": {
            "text/plain": [
              "Pregnancies                 0\n",
              "Glucose                     0\n",
              "BloodPressure               0\n",
              "SkinThickness               0\n",
              "Insulin                     0\n",
              "BMI                         0\n",
              "DiabetesPedigreeFunction    0\n",
              "Age                         0\n",
              "Outcome                     0\n",
              "dtype: int64"
            ]
          },
          "metadata": {},
          "execution_count": 1
        }
      ],
      "source": [
        "import pandas as pd\n",
        "\n",
        "df = pd.read_csv('diabetes (1).csv')\n",
        "df.info()\n",
        "df.isnull().sum()"
      ]
    },
    {
      "cell_type": "code",
      "source": [
        "from sklearn.tree import DecisionTreeClassifier, plot_tree\n",
        "from sklearn.metrics import accuracy_score, classification_report\n",
        "from sklearn.model_selection import train_test_split\n",
        "\n",
        "dt = DecisionTreeClassifier(max_depth=5)\n",
        "\n",
        "df.Outcome.value_counts()\n",
        "\n",
        "X = df.drop(['Outcome'], axis=1)\n",
        "y = df.Outcome\n",
        "\n",
        "X_train, X_test, y_train, y_test = train_test_split(X, y, test_size=0.15)\n",
        "\n",
        "dt.fit(X_train, y_train)\n",
        "\n",
        "y_pred = dt.predict(X_train)\n",
        "\n",
        "print('accuracy rate for train set= ', accuracy_score(y_train , y_pred))\n",
        "\n",
        "\n",
        "y_predict= dt.predict(X_test)\n",
        "print('accuracy rate for test set = ', accuracy_score(y_test, y_predict))\n",
        "\n",
        "classification_report(y_test,y_predict)\n",
        "\n",
        "#import matplotlib.pyplot as plt\n",
        "\n",
        "#plt.figure(dpi = 200)\n",
        "#plot_tree(dt)"
      ],
      "metadata": {
        "colab": {
          "base_uri": "https://localhost:8080/",
          "height": 107
        },
        "id": "qoRiThU2GjEE",
        "outputId": "0b5b6b33-52d5-48c1-f753-d9f0930c7864"
      },
      "execution_count": 2,
      "outputs": [
        {
          "output_type": "stream",
          "name": "stdout",
          "text": [
            "accuracy rate for train set=  0.838957055214724\n",
            "accuracy rate for test set =  0.7327586206896551\n"
          ]
        },
        {
          "output_type": "execute_result",
          "data": {
            "text/plain": [
              "'              precision    recall  f1-score   support\\n\\n           0       0.75      0.85      0.80        72\\n           1       0.69      0.55      0.61        44\\n\\n    accuracy                           0.73       116\\n   macro avg       0.72      0.70      0.70       116\\nweighted avg       0.73      0.73      0.73       116\\n'"
            ],
            "application/vnd.google.colaboratory.intrinsic+json": {
              "type": "string"
            }
          },
          "metadata": {},
          "execution_count": 2
        }
      ]
    },
    {
      "cell_type": "code",
      "source": [
        "from sklearn.ensemble import RandomForestClassifier\n",
        "\n",
        "rf = RandomForestClassifier(n_estimators=100, max_depth=5, min_samples_leaf= 0.1)\n",
        "\n",
        "rf.fit(X_train, y_train)\n",
        "\n",
        "y_pd = rf.predict(X_train)\n",
        "accuracy_score(y_train,y_pd)\n",
        "\n",
        "y_p = rf.predict(X_test)\n",
        "accuracy_score(y_test,y_p)\n"
      ],
      "metadata": {
        "colab": {
          "base_uri": "https://localhost:8080/"
        },
        "id": "KsNcybxDO5_o",
        "outputId": "bfbd5e70-c0b4-4087-b096-0cbb560fd830"
      },
      "execution_count": 3,
      "outputs": [
        {
          "output_type": "execute_result",
          "data": {
            "text/plain": [
              "0.7068965517241379"
            ]
          },
          "metadata": {},
          "execution_count": 3
        }
      ]
    }
  ]
}