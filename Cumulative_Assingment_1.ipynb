{
  "nbformat": 4,
  "nbformat_minor": 0,
  "metadata": {
    "colab": {
      "name": "Cumulative_Assingment_1.ipynb",
      "provenance": [],
      "collapsed_sections": [],
      "include_colab_link": true
    },
    "kernelspec": {
      "name": "python3",
      "display_name": "Python 3"
    }
  },
  "cells": [
    {
      "cell_type": "markdown",
      "metadata": {
        "id": "view-in-github",
        "colab_type": "text"
      },
      "source": [
        "<a href=\"https://colab.research.google.com/github/svanhemert00/lmu-isba-4790/blob/main/Cumulative_Assingment_1.ipynb\" target=\"_parent\"><img src=\"https://colab.research.google.com/assets/colab-badge.svg\" alt=\"Open In Colab\"/></a>"
      ]
    },
    {
      "cell_type": "markdown",
      "metadata": {
        "id": "jyt3F8Rc_bj0"
      },
      "source": [
        "#Cumulative Assignment 1: Machine Learning with Python\n",
        "This is the INDIVIDUAL assignment for ISBA 4790- Machine Learning with Python. The assignment is due by **Tuesday February 15 at 16:00 PM**. Your submissions will be examined by [TurnItIn](https://en.wikipedia.org/wiki/Turnitin) for plaigiarism. If you use any piece of code from web or anywhere else, you should add the reference as a comment. It is fine to reuse others' (non-students) code as long as you reference them. You are not allowed to share your work or talk about this assignment with each other."
      ]
    },
    {
      "cell_type": "markdown",
      "metadata": {
        "id": "muSYo489cqFr"
      },
      "source": [
        "## The Business Case\n",
        "A commercially successful movie not only entertains audience, but also enables film companies to gain tremendous profit. A lot of factors such as good directors, experienced actors are considerable for creating good movies. However, famous directors and actors can always bring an expected box-office income but cannot guarantee a highly rated imdb score.\n",
        "\n",
        "## Data Description\n",
        "The dataset is from Kaggle website. You may download [the dataset here](https://drive.google.com/file/d/1lQ6VmIygkSnukT-hwFFuu3CTCiGFVhhF/view?usp=sharing). It contains 28 variables for about 5K movies, spanning across 100 years in over 60 countries. There are over 2K unique director names, and thousands of actors/actresses.\n",
        "\n",
        "* **movie_title**\tTitle of the Movie\n",
        "* **duration**\tDuration in minutes\n",
        "* **director_name**\tName of the Director of the Movie\n",
        "* **director_facebook_likes**\tNumber of likes of the Director on his Facebook Page\n",
        "* **actor_1_name**\tPrimary actor starring in the movie\n",
        "* **actor_1_facebook_likes**\tNumber of likes of the Actor_1 on his/her Facebook Page\n",
        "* **actor_2_name**\tOther actor starring in the movie\n",
        "* **actor_2_facebook_likes**\tNumber of likes of the Actor_2 on his/her Facebook Page\n",
        "* **actor_3_name**\tOther actor starring in the movie\n",
        "* **actor_3_facebook_likes**\tNumber of likes of the Actor_3 on his/her Facebook Page\n",
        "* **num_user_for_reviews**\tNumber of users who gave a review\n",
        "* **num_critic_for_reviews**\tNumber of critical reviews on imdb\n",
        "* **num_voted_users**\tNumber of people who voted for the movie\n",
        "* **cast_total_facebook_likes**\tTotal number of facebook likes of the entire cast of the movie\n",
        "* **movie_facebook_likes**\tNumber of Facebook likes in the movie page\n",
        "* **plot_keywords**\tKeywords describing the movie plot\n",
        "* **facenumber_in_poster**\tNumber of the actor who featured in the movie poster\n",
        "* **color**\tFilm colorization. ‘Black and White’ or ‘Color’\n",
        "* **genres**\tFilm categorization like ‘Animation’, ‘Comedy’, ‘Romance’, ‘Horror’, ‘Sci-Fi’, ‘Action’, ‘Family’\n",
        "* **title_year**\tThe year in which the movie is released (1916:2016)\n",
        "* **language**\tEnglish, Arabic, Chinese, French, German, Danish, Italian, Japanese etc\n",
        "* **country**\tCountry where the movie is produced\n",
        "* **content_rating**\tContent rating of the movie\n",
        "* **aspect_ratio**\tAspect ratio the movie was made in\n",
        "* **movie_imdb_link**\tIMDB link of the movie\n",
        "* **gross**\tGross earnings of the movie in Dollars\n",
        "* **budget**\tBudget of the movie in Dollars\n",
        "* **imdb_score**\tIMDB Score of the movie on IMDB"
      ]
    },
    {
      "cell_type": "markdown",
      "metadata": {
        "id": "MgyJSlVrn17M"
      },
      "source": [
        "## Problem Steps\n",
        "Please go through the following problems and produce the code that answers the problem. \n",
        "* Properly comment your code so it is easy to read and understand. \n",
        "* If you reuse any piece of code from web or anywhere else, you should add the reference/link as a comment right where you are reusing the code.\n",
        "* When finished, save the notebook, and download it in .ipynb file format. You submit the notebook file on the Brightspace."
      ]
    },
    {
      "cell_type": "markdown",
      "metadata": {
        "id": "NrWS5R4WC_P3"
      },
      "source": [
        "## Data Ingestion & Cleaning\n",
        "1. Read the dataset into a dataframe. Use [.head()](https://pandas.pydata.org/pandas-docs/stable/reference/api/pandas.DataFrame.head.html#pandas.DataFrame.head) to check out the first few rows and use [.describe()](https://pandas.pydata.org/pandas-docs/stable/reference/api/pandas.DataFrame.describe.html#pandas.DataFrame.describe)to see a summary statistics of the dataset.\n",
        "\n"
      ]
    },
    {
      "cell_type": "code",
      "source": [
        "import pandas as pd\n",
        "import numpy as np\n",
        "import matplotlib.pyplot as plt"
      ],
      "metadata": {
        "id": "G0AktmFB76f_"
      },
      "execution_count": 1,
      "outputs": []
    },
    {
      "cell_type": "code",
      "source": [
        "df = pd.read_csv(\"IMDB Dataset.csv\", na_values =['nan', 'NaN', 'Nan']) # include all common nulls\n",
        "# df.isnull = 'NaN' -> this also sets NaN as null values\n",
        "\n",
        "df.info() # to check data types"
      ],
      "metadata": {
        "id": "c64j03es7vjI",
        "colab": {
          "base_uri": "https://localhost:8080/"
        },
        "outputId": "648bf187-e339-474b-cec1-137be3c0a548"
      },
      "execution_count": 2,
      "outputs": [
        {
          "output_type": "stream",
          "name": "stdout",
          "text": [
            "<class 'pandas.core.frame.DataFrame'>\n",
            "RangeIndex: 5043 entries, 0 to 5042\n",
            "Data columns (total 28 columns):\n",
            " #   Column                     Non-Null Count  Dtype  \n",
            "---  ------                     --------------  -----  \n",
            " 0   color                      5024 non-null   object \n",
            " 1   director_name              4939 non-null   object \n",
            " 2   num_critic_for_reviews     4993 non-null   float64\n",
            " 3   duration                   5028 non-null   float64\n",
            " 4   director_facebook_likes    4939 non-null   float64\n",
            " 5   actor_3_facebook_likes     5020 non-null   float64\n",
            " 6   actor_2_name               5030 non-null   object \n",
            " 7   actor_1_facebook_likes     5036 non-null   float64\n",
            " 8   gross                      4159 non-null   float64\n",
            " 9   genres                     5043 non-null   object \n",
            " 10  actor_1_name               5036 non-null   object \n",
            " 11  movie_title                5043 non-null   object \n",
            " 12  num_voted_users            5043 non-null   int64  \n",
            " 13  cast_total_facebook_likes  5043 non-null   int64  \n",
            " 14  actor_3_name               5020 non-null   object \n",
            " 15  facenumber_in_poster       5030 non-null   float64\n",
            " 16  plot_keywords              4890 non-null   object \n",
            " 17  movie_imdb_link            5043 non-null   object \n",
            " 18  num_user_for_reviews       5022 non-null   float64\n",
            " 19  language                   5031 non-null   object \n",
            " 20  country                    5038 non-null   object \n",
            " 21  content_rating             4740 non-null   object \n",
            " 22  budget                     4551 non-null   float64\n",
            " 23  title_year                 4935 non-null   float64\n",
            " 24  actor_2_facebook_likes     5030 non-null   float64\n",
            " 25  imdb_score                 5043 non-null   float64\n",
            " 26  aspect_ratio               4714 non-null   float64\n",
            " 27  movie_facebook_likes       5043 non-null   int64  \n",
            "dtypes: float64(13), int64(3), object(12)\n",
            "memory usage: 1.1+ MB\n"
          ]
        }
      ]
    },
    {
      "cell_type": "code",
      "source": [
        "df.head(3) # to see first 3 rows"
      ],
      "metadata": {
        "colab": {
          "base_uri": "https://localhost:8080/",
          "height": 254
        },
        "id": "NhSLDs-mEMsK",
        "outputId": "e1220407-4bbd-4035-f83b-3987b4d34f6c"
      },
      "execution_count": 3,
      "outputs": [
        {
          "output_type": "execute_result",
          "data": {
            "text/plain": [
              "   color   director_name  num_critic_for_reviews  duration  \\\n",
              "0  Color   James Cameron                   723.0     178.0   \n",
              "1  Color  Gore Verbinski                   302.0     169.0   \n",
              "2  Color      Sam Mendes                   602.0     148.0   \n",
              "\n",
              "   director_facebook_likes  actor_3_facebook_likes      actor_2_name  \\\n",
              "0                      0.0                   855.0  Joel David Moore   \n",
              "1                    563.0                  1000.0     Orlando Bloom   \n",
              "2                      0.0                   161.0      Rory Kinnear   \n",
              "\n",
              "   actor_1_facebook_likes        gross                           genres  ...  \\\n",
              "0                  1000.0  760505847.0  Action|Adventure|Fantasy|Sci-Fi  ...   \n",
              "1                 40000.0  309404152.0         Action|Adventure|Fantasy  ...   \n",
              "2                 11000.0  200074175.0        Action|Adventure|Thriller  ...   \n",
              "\n",
              "  num_user_for_reviews language  country  content_rating       budget  \\\n",
              "0               3054.0  English      USA           PG-13  237000000.0   \n",
              "1               1238.0  English      USA           PG-13  300000000.0   \n",
              "2                994.0  English       UK           PG-13  245000000.0   \n",
              "\n",
              "   title_year actor_2_facebook_likes imdb_score  aspect_ratio  \\\n",
              "0      2009.0                  936.0        7.9          1.78   \n",
              "1      2007.0                 5000.0        7.1          2.35   \n",
              "2      2015.0                  393.0        6.8          2.35   \n",
              "\n",
              "  movie_facebook_likes  \n",
              "0                33000  \n",
              "1                    0  \n",
              "2                85000  \n",
              "\n",
              "[3 rows x 28 columns]"
            ],
            "text/html": [
              "\n",
              "  <div id=\"df-66a8eb65-7713-4db9-a25d-d3e558e465e6\">\n",
              "    <div class=\"colab-df-container\">\n",
              "      <div>\n",
              "<style scoped>\n",
              "    .dataframe tbody tr th:only-of-type {\n",
              "        vertical-align: middle;\n",
              "    }\n",
              "\n",
              "    .dataframe tbody tr th {\n",
              "        vertical-align: top;\n",
              "    }\n",
              "\n",
              "    .dataframe thead th {\n",
              "        text-align: right;\n",
              "    }\n",
              "</style>\n",
              "<table border=\"1\" class=\"dataframe\">\n",
              "  <thead>\n",
              "    <tr style=\"text-align: right;\">\n",
              "      <th></th>\n",
              "      <th>color</th>\n",
              "      <th>director_name</th>\n",
              "      <th>num_critic_for_reviews</th>\n",
              "      <th>duration</th>\n",
              "      <th>director_facebook_likes</th>\n",
              "      <th>actor_3_facebook_likes</th>\n",
              "      <th>actor_2_name</th>\n",
              "      <th>actor_1_facebook_likes</th>\n",
              "      <th>gross</th>\n",
              "      <th>genres</th>\n",
              "      <th>...</th>\n",
              "      <th>num_user_for_reviews</th>\n",
              "      <th>language</th>\n",
              "      <th>country</th>\n",
              "      <th>content_rating</th>\n",
              "      <th>budget</th>\n",
              "      <th>title_year</th>\n",
              "      <th>actor_2_facebook_likes</th>\n",
              "      <th>imdb_score</th>\n",
              "      <th>aspect_ratio</th>\n",
              "      <th>movie_facebook_likes</th>\n",
              "    </tr>\n",
              "  </thead>\n",
              "  <tbody>\n",
              "    <tr>\n",
              "      <th>0</th>\n",
              "      <td>Color</td>\n",
              "      <td>James Cameron</td>\n",
              "      <td>723.0</td>\n",
              "      <td>178.0</td>\n",
              "      <td>0.0</td>\n",
              "      <td>855.0</td>\n",
              "      <td>Joel David Moore</td>\n",
              "      <td>1000.0</td>\n",
              "      <td>760505847.0</td>\n",
              "      <td>Action|Adventure|Fantasy|Sci-Fi</td>\n",
              "      <td>...</td>\n",
              "      <td>3054.0</td>\n",
              "      <td>English</td>\n",
              "      <td>USA</td>\n",
              "      <td>PG-13</td>\n",
              "      <td>237000000.0</td>\n",
              "      <td>2009.0</td>\n",
              "      <td>936.0</td>\n",
              "      <td>7.9</td>\n",
              "      <td>1.78</td>\n",
              "      <td>33000</td>\n",
              "    </tr>\n",
              "    <tr>\n",
              "      <th>1</th>\n",
              "      <td>Color</td>\n",
              "      <td>Gore Verbinski</td>\n",
              "      <td>302.0</td>\n",
              "      <td>169.0</td>\n",
              "      <td>563.0</td>\n",
              "      <td>1000.0</td>\n",
              "      <td>Orlando Bloom</td>\n",
              "      <td>40000.0</td>\n",
              "      <td>309404152.0</td>\n",
              "      <td>Action|Adventure|Fantasy</td>\n",
              "      <td>...</td>\n",
              "      <td>1238.0</td>\n",
              "      <td>English</td>\n",
              "      <td>USA</td>\n",
              "      <td>PG-13</td>\n",
              "      <td>300000000.0</td>\n",
              "      <td>2007.0</td>\n",
              "      <td>5000.0</td>\n",
              "      <td>7.1</td>\n",
              "      <td>2.35</td>\n",
              "      <td>0</td>\n",
              "    </tr>\n",
              "    <tr>\n",
              "      <th>2</th>\n",
              "      <td>Color</td>\n",
              "      <td>Sam Mendes</td>\n",
              "      <td>602.0</td>\n",
              "      <td>148.0</td>\n",
              "      <td>0.0</td>\n",
              "      <td>161.0</td>\n",
              "      <td>Rory Kinnear</td>\n",
              "      <td>11000.0</td>\n",
              "      <td>200074175.0</td>\n",
              "      <td>Action|Adventure|Thriller</td>\n",
              "      <td>...</td>\n",
              "      <td>994.0</td>\n",
              "      <td>English</td>\n",
              "      <td>UK</td>\n",
              "      <td>PG-13</td>\n",
              "      <td>245000000.0</td>\n",
              "      <td>2015.0</td>\n",
              "      <td>393.0</td>\n",
              "      <td>6.8</td>\n",
              "      <td>2.35</td>\n",
              "      <td>85000</td>\n",
              "    </tr>\n",
              "  </tbody>\n",
              "</table>\n",
              "<p>3 rows × 28 columns</p>\n",
              "</div>\n",
              "      <button class=\"colab-df-convert\" onclick=\"convertToInteractive('df-66a8eb65-7713-4db9-a25d-d3e558e465e6')\"\n",
              "              title=\"Convert this dataframe to an interactive table.\"\n",
              "              style=\"display:none;\">\n",
              "        \n",
              "  <svg xmlns=\"http://www.w3.org/2000/svg\" height=\"24px\"viewBox=\"0 0 24 24\"\n",
              "       width=\"24px\">\n",
              "    <path d=\"M0 0h24v24H0V0z\" fill=\"none\"/>\n",
              "    <path d=\"M18.56 5.44l.94 2.06.94-2.06 2.06-.94-2.06-.94-.94-2.06-.94 2.06-2.06.94zm-11 1L8.5 8.5l.94-2.06 2.06-.94-2.06-.94L8.5 2.5l-.94 2.06-2.06.94zm10 10l.94 2.06.94-2.06 2.06-.94-2.06-.94-.94-2.06-.94 2.06-2.06.94z\"/><path d=\"M17.41 7.96l-1.37-1.37c-.4-.4-.92-.59-1.43-.59-.52 0-1.04.2-1.43.59L10.3 9.45l-7.72 7.72c-.78.78-.78 2.05 0 2.83L4 21.41c.39.39.9.59 1.41.59.51 0 1.02-.2 1.41-.59l7.78-7.78 2.81-2.81c.8-.78.8-2.07 0-2.86zM5.41 20L4 18.59l7.72-7.72 1.47 1.35L5.41 20z\"/>\n",
              "  </svg>\n",
              "      </button>\n",
              "      \n",
              "  <style>\n",
              "    .colab-df-container {\n",
              "      display:flex;\n",
              "      flex-wrap:wrap;\n",
              "      gap: 12px;\n",
              "    }\n",
              "\n",
              "    .colab-df-convert {\n",
              "      background-color: #E8F0FE;\n",
              "      border: none;\n",
              "      border-radius: 50%;\n",
              "      cursor: pointer;\n",
              "      display: none;\n",
              "      fill: #1967D2;\n",
              "      height: 32px;\n",
              "      padding: 0 0 0 0;\n",
              "      width: 32px;\n",
              "    }\n",
              "\n",
              "    .colab-df-convert:hover {\n",
              "      background-color: #E2EBFA;\n",
              "      box-shadow: 0px 1px 2px rgba(60, 64, 67, 0.3), 0px 1px 3px 1px rgba(60, 64, 67, 0.15);\n",
              "      fill: #174EA6;\n",
              "    }\n",
              "\n",
              "    [theme=dark] .colab-df-convert {\n",
              "      background-color: #3B4455;\n",
              "      fill: #D2E3FC;\n",
              "    }\n",
              "\n",
              "    [theme=dark] .colab-df-convert:hover {\n",
              "      background-color: #434B5C;\n",
              "      box-shadow: 0px 1px 3px 1px rgba(0, 0, 0, 0.15);\n",
              "      filter: drop-shadow(0px 1px 2px rgba(0, 0, 0, 0.3));\n",
              "      fill: #FFFFFF;\n",
              "    }\n",
              "  </style>\n",
              "\n",
              "      <script>\n",
              "        const buttonEl =\n",
              "          document.querySelector('#df-66a8eb65-7713-4db9-a25d-d3e558e465e6 button.colab-df-convert');\n",
              "        buttonEl.style.display =\n",
              "          google.colab.kernel.accessAllowed ? 'block' : 'none';\n",
              "\n",
              "        async function convertToInteractive(key) {\n",
              "          const element = document.querySelector('#df-66a8eb65-7713-4db9-a25d-d3e558e465e6');\n",
              "          const dataTable =\n",
              "            await google.colab.kernel.invokeFunction('convertToInteractive',\n",
              "                                                     [key], {});\n",
              "          if (!dataTable) return;\n",
              "\n",
              "          const docLinkHtml = 'Like what you see? Visit the ' +\n",
              "            '<a target=\"_blank\" href=https://colab.research.google.com/notebooks/data_table.ipynb>data table notebook</a>'\n",
              "            + ' to learn more about interactive tables.';\n",
              "          element.innerHTML = '';\n",
              "          dataTable['output_type'] = 'display_data';\n",
              "          await google.colab.output.renderOutput(dataTable, element);\n",
              "          const docLink = document.createElement('div');\n",
              "          docLink.innerHTML = docLinkHtml;\n",
              "          element.appendChild(docLink);\n",
              "        }\n",
              "      </script>\n",
              "    </div>\n",
              "  </div>\n",
              "  "
            ]
          },
          "metadata": {},
          "execution_count": 3
        }
      ]
    },
    {
      "cell_type": "code",
      "source": [
        "df.describe() # for summary statistics"
      ],
      "metadata": {
        "id": "hf5bzJs_kfCw",
        "outputId": "47d35330-a900-41d7-aa55-f5ed0cf05ca3",
        "colab": {
          "base_uri": "https://localhost:8080/",
          "height": 364
        }
      },
      "execution_count": 4,
      "outputs": [
        {
          "output_type": "execute_result",
          "data": {
            "text/plain": [
              "       num_critic_for_reviews     duration  director_facebook_likes  \\\n",
              "count             4993.000000  5028.000000              4939.000000   \n",
              "mean               140.194272   107.201074               686.509212   \n",
              "std                121.601675    25.197441              2813.328607   \n",
              "min                  1.000000     7.000000                 0.000000   \n",
              "25%                 50.000000    93.000000                 7.000000   \n",
              "50%                110.000000   103.000000                49.000000   \n",
              "75%                195.000000   118.000000               194.500000   \n",
              "max                813.000000   511.000000             23000.000000   \n",
              "\n",
              "       actor_3_facebook_likes  actor_1_facebook_likes         gross  \\\n",
              "count             5020.000000             5036.000000  4.159000e+03   \n",
              "mean               645.009761             6560.047061  4.846841e+07   \n",
              "std               1665.041728            15020.759120  6.845299e+07   \n",
              "min                  0.000000                0.000000  1.620000e+02   \n",
              "25%                133.000000              614.000000  5.340988e+06   \n",
              "50%                371.500000              988.000000  2.551750e+07   \n",
              "75%                636.000000            11000.000000  6.230944e+07   \n",
              "max              23000.000000           640000.000000  7.605058e+08   \n",
              "\n",
              "       num_voted_users  cast_total_facebook_likes  facenumber_in_poster  \\\n",
              "count     5.043000e+03                5043.000000           5030.000000   \n",
              "mean      8.366816e+04                9699.063851              1.371173   \n",
              "std       1.384853e+05               18163.799124              2.013576   \n",
              "min       5.000000e+00                   0.000000              0.000000   \n",
              "25%       8.593500e+03                1411.000000              0.000000   \n",
              "50%       3.435900e+04                3090.000000              1.000000   \n",
              "75%       9.630900e+04               13756.500000              2.000000   \n",
              "max       1.689764e+06              656730.000000             43.000000   \n",
              "\n",
              "       num_user_for_reviews        budget   title_year  \\\n",
              "count           5022.000000  4.551000e+03  4935.000000   \n",
              "mean             272.770808  3.975262e+07  2002.470517   \n",
              "std              377.982886  2.061149e+08    12.474599   \n",
              "min                1.000000  2.180000e+02  1916.000000   \n",
              "25%               65.000000  6.000000e+06  1999.000000   \n",
              "50%              156.000000  2.000000e+07  2005.000000   \n",
              "75%              326.000000  4.500000e+07  2011.000000   \n",
              "max             5060.000000  1.221550e+10  2016.000000   \n",
              "\n",
              "       actor_2_facebook_likes   imdb_score  aspect_ratio  movie_facebook_likes  \n",
              "count             5030.000000  5043.000000   4714.000000           5043.000000  \n",
              "mean              1651.754473     6.442138      2.220403           7525.964505  \n",
              "std               4042.438863     1.125116      1.385113          19320.445110  \n",
              "min                  0.000000     1.600000      1.180000              0.000000  \n",
              "25%                281.000000     5.800000      1.850000              0.000000  \n",
              "50%                595.000000     6.600000      2.350000            166.000000  \n",
              "75%                918.000000     7.200000      2.350000           3000.000000  \n",
              "max             137000.000000     9.500000     16.000000         349000.000000  "
            ],
            "text/html": [
              "\n",
              "  <div id=\"df-045aeb0a-5b1e-4d69-992b-0c2d46cf373e\">\n",
              "    <div class=\"colab-df-container\">\n",
              "      <div>\n",
              "<style scoped>\n",
              "    .dataframe tbody tr th:only-of-type {\n",
              "        vertical-align: middle;\n",
              "    }\n",
              "\n",
              "    .dataframe tbody tr th {\n",
              "        vertical-align: top;\n",
              "    }\n",
              "\n",
              "    .dataframe thead th {\n",
              "        text-align: right;\n",
              "    }\n",
              "</style>\n",
              "<table border=\"1\" class=\"dataframe\">\n",
              "  <thead>\n",
              "    <tr style=\"text-align: right;\">\n",
              "      <th></th>\n",
              "      <th>num_critic_for_reviews</th>\n",
              "      <th>duration</th>\n",
              "      <th>director_facebook_likes</th>\n",
              "      <th>actor_3_facebook_likes</th>\n",
              "      <th>actor_1_facebook_likes</th>\n",
              "      <th>gross</th>\n",
              "      <th>num_voted_users</th>\n",
              "      <th>cast_total_facebook_likes</th>\n",
              "      <th>facenumber_in_poster</th>\n",
              "      <th>num_user_for_reviews</th>\n",
              "      <th>budget</th>\n",
              "      <th>title_year</th>\n",
              "      <th>actor_2_facebook_likes</th>\n",
              "      <th>imdb_score</th>\n",
              "      <th>aspect_ratio</th>\n",
              "      <th>movie_facebook_likes</th>\n",
              "    </tr>\n",
              "  </thead>\n",
              "  <tbody>\n",
              "    <tr>\n",
              "      <th>count</th>\n",
              "      <td>4993.000000</td>\n",
              "      <td>5028.000000</td>\n",
              "      <td>4939.000000</td>\n",
              "      <td>5020.000000</td>\n",
              "      <td>5036.000000</td>\n",
              "      <td>4.159000e+03</td>\n",
              "      <td>5.043000e+03</td>\n",
              "      <td>5043.000000</td>\n",
              "      <td>5030.000000</td>\n",
              "      <td>5022.000000</td>\n",
              "      <td>4.551000e+03</td>\n",
              "      <td>4935.000000</td>\n",
              "      <td>5030.000000</td>\n",
              "      <td>5043.000000</td>\n",
              "      <td>4714.000000</td>\n",
              "      <td>5043.000000</td>\n",
              "    </tr>\n",
              "    <tr>\n",
              "      <th>mean</th>\n",
              "      <td>140.194272</td>\n",
              "      <td>107.201074</td>\n",
              "      <td>686.509212</td>\n",
              "      <td>645.009761</td>\n",
              "      <td>6560.047061</td>\n",
              "      <td>4.846841e+07</td>\n",
              "      <td>8.366816e+04</td>\n",
              "      <td>9699.063851</td>\n",
              "      <td>1.371173</td>\n",
              "      <td>272.770808</td>\n",
              "      <td>3.975262e+07</td>\n",
              "      <td>2002.470517</td>\n",
              "      <td>1651.754473</td>\n",
              "      <td>6.442138</td>\n",
              "      <td>2.220403</td>\n",
              "      <td>7525.964505</td>\n",
              "    </tr>\n",
              "    <tr>\n",
              "      <th>std</th>\n",
              "      <td>121.601675</td>\n",
              "      <td>25.197441</td>\n",
              "      <td>2813.328607</td>\n",
              "      <td>1665.041728</td>\n",
              "      <td>15020.759120</td>\n",
              "      <td>6.845299e+07</td>\n",
              "      <td>1.384853e+05</td>\n",
              "      <td>18163.799124</td>\n",
              "      <td>2.013576</td>\n",
              "      <td>377.982886</td>\n",
              "      <td>2.061149e+08</td>\n",
              "      <td>12.474599</td>\n",
              "      <td>4042.438863</td>\n",
              "      <td>1.125116</td>\n",
              "      <td>1.385113</td>\n",
              "      <td>19320.445110</td>\n",
              "    </tr>\n",
              "    <tr>\n",
              "      <th>min</th>\n",
              "      <td>1.000000</td>\n",
              "      <td>7.000000</td>\n",
              "      <td>0.000000</td>\n",
              "      <td>0.000000</td>\n",
              "      <td>0.000000</td>\n",
              "      <td>1.620000e+02</td>\n",
              "      <td>5.000000e+00</td>\n",
              "      <td>0.000000</td>\n",
              "      <td>0.000000</td>\n",
              "      <td>1.000000</td>\n",
              "      <td>2.180000e+02</td>\n",
              "      <td>1916.000000</td>\n",
              "      <td>0.000000</td>\n",
              "      <td>1.600000</td>\n",
              "      <td>1.180000</td>\n",
              "      <td>0.000000</td>\n",
              "    </tr>\n",
              "    <tr>\n",
              "      <th>25%</th>\n",
              "      <td>50.000000</td>\n",
              "      <td>93.000000</td>\n",
              "      <td>7.000000</td>\n",
              "      <td>133.000000</td>\n",
              "      <td>614.000000</td>\n",
              "      <td>5.340988e+06</td>\n",
              "      <td>8.593500e+03</td>\n",
              "      <td>1411.000000</td>\n",
              "      <td>0.000000</td>\n",
              "      <td>65.000000</td>\n",
              "      <td>6.000000e+06</td>\n",
              "      <td>1999.000000</td>\n",
              "      <td>281.000000</td>\n",
              "      <td>5.800000</td>\n",
              "      <td>1.850000</td>\n",
              "      <td>0.000000</td>\n",
              "    </tr>\n",
              "    <tr>\n",
              "      <th>50%</th>\n",
              "      <td>110.000000</td>\n",
              "      <td>103.000000</td>\n",
              "      <td>49.000000</td>\n",
              "      <td>371.500000</td>\n",
              "      <td>988.000000</td>\n",
              "      <td>2.551750e+07</td>\n",
              "      <td>3.435900e+04</td>\n",
              "      <td>3090.000000</td>\n",
              "      <td>1.000000</td>\n",
              "      <td>156.000000</td>\n",
              "      <td>2.000000e+07</td>\n",
              "      <td>2005.000000</td>\n",
              "      <td>595.000000</td>\n",
              "      <td>6.600000</td>\n",
              "      <td>2.350000</td>\n",
              "      <td>166.000000</td>\n",
              "    </tr>\n",
              "    <tr>\n",
              "      <th>75%</th>\n",
              "      <td>195.000000</td>\n",
              "      <td>118.000000</td>\n",
              "      <td>194.500000</td>\n",
              "      <td>636.000000</td>\n",
              "      <td>11000.000000</td>\n",
              "      <td>6.230944e+07</td>\n",
              "      <td>9.630900e+04</td>\n",
              "      <td>13756.500000</td>\n",
              "      <td>2.000000</td>\n",
              "      <td>326.000000</td>\n",
              "      <td>4.500000e+07</td>\n",
              "      <td>2011.000000</td>\n",
              "      <td>918.000000</td>\n",
              "      <td>7.200000</td>\n",
              "      <td>2.350000</td>\n",
              "      <td>3000.000000</td>\n",
              "    </tr>\n",
              "    <tr>\n",
              "      <th>max</th>\n",
              "      <td>813.000000</td>\n",
              "      <td>511.000000</td>\n",
              "      <td>23000.000000</td>\n",
              "      <td>23000.000000</td>\n",
              "      <td>640000.000000</td>\n",
              "      <td>7.605058e+08</td>\n",
              "      <td>1.689764e+06</td>\n",
              "      <td>656730.000000</td>\n",
              "      <td>43.000000</td>\n",
              "      <td>5060.000000</td>\n",
              "      <td>1.221550e+10</td>\n",
              "      <td>2016.000000</td>\n",
              "      <td>137000.000000</td>\n",
              "      <td>9.500000</td>\n",
              "      <td>16.000000</td>\n",
              "      <td>349000.000000</td>\n",
              "    </tr>\n",
              "  </tbody>\n",
              "</table>\n",
              "</div>\n",
              "      <button class=\"colab-df-convert\" onclick=\"convertToInteractive('df-045aeb0a-5b1e-4d69-992b-0c2d46cf373e')\"\n",
              "              title=\"Convert this dataframe to an interactive table.\"\n",
              "              style=\"display:none;\">\n",
              "        \n",
              "  <svg xmlns=\"http://www.w3.org/2000/svg\" height=\"24px\"viewBox=\"0 0 24 24\"\n",
              "       width=\"24px\">\n",
              "    <path d=\"M0 0h24v24H0V0z\" fill=\"none\"/>\n",
              "    <path d=\"M18.56 5.44l.94 2.06.94-2.06 2.06-.94-2.06-.94-.94-2.06-.94 2.06-2.06.94zm-11 1L8.5 8.5l.94-2.06 2.06-.94-2.06-.94L8.5 2.5l-.94 2.06-2.06.94zm10 10l.94 2.06.94-2.06 2.06-.94-2.06-.94-.94-2.06-.94 2.06-2.06.94z\"/><path d=\"M17.41 7.96l-1.37-1.37c-.4-.4-.92-.59-1.43-.59-.52 0-1.04.2-1.43.59L10.3 9.45l-7.72 7.72c-.78.78-.78 2.05 0 2.83L4 21.41c.39.39.9.59 1.41.59.51 0 1.02-.2 1.41-.59l7.78-7.78 2.81-2.81c.8-.78.8-2.07 0-2.86zM5.41 20L4 18.59l7.72-7.72 1.47 1.35L5.41 20z\"/>\n",
              "  </svg>\n",
              "      </button>\n",
              "      \n",
              "  <style>\n",
              "    .colab-df-container {\n",
              "      display:flex;\n",
              "      flex-wrap:wrap;\n",
              "      gap: 12px;\n",
              "    }\n",
              "\n",
              "    .colab-df-convert {\n",
              "      background-color: #E8F0FE;\n",
              "      border: none;\n",
              "      border-radius: 50%;\n",
              "      cursor: pointer;\n",
              "      display: none;\n",
              "      fill: #1967D2;\n",
              "      height: 32px;\n",
              "      padding: 0 0 0 0;\n",
              "      width: 32px;\n",
              "    }\n",
              "\n",
              "    .colab-df-convert:hover {\n",
              "      background-color: #E2EBFA;\n",
              "      box-shadow: 0px 1px 2px rgba(60, 64, 67, 0.3), 0px 1px 3px 1px rgba(60, 64, 67, 0.15);\n",
              "      fill: #174EA6;\n",
              "    }\n",
              "\n",
              "    [theme=dark] .colab-df-convert {\n",
              "      background-color: #3B4455;\n",
              "      fill: #D2E3FC;\n",
              "    }\n",
              "\n",
              "    [theme=dark] .colab-df-convert:hover {\n",
              "      background-color: #434B5C;\n",
              "      box-shadow: 0px 1px 3px 1px rgba(0, 0, 0, 0.15);\n",
              "      filter: drop-shadow(0px 1px 2px rgba(0, 0, 0, 0.3));\n",
              "      fill: #FFFFFF;\n",
              "    }\n",
              "  </style>\n",
              "\n",
              "      <script>\n",
              "        const buttonEl =\n",
              "          document.querySelector('#df-045aeb0a-5b1e-4d69-992b-0c2d46cf373e button.colab-df-convert');\n",
              "        buttonEl.style.display =\n",
              "          google.colab.kernel.accessAllowed ? 'block' : 'none';\n",
              "\n",
              "        async function convertToInteractive(key) {\n",
              "          const element = document.querySelector('#df-045aeb0a-5b1e-4d69-992b-0c2d46cf373e');\n",
              "          const dataTable =\n",
              "            await google.colab.kernel.invokeFunction('convertToInteractive',\n",
              "                                                     [key], {});\n",
              "          if (!dataTable) return;\n",
              "\n",
              "          const docLinkHtml = 'Like what you see? Visit the ' +\n",
              "            '<a target=\"_blank\" href=https://colab.research.google.com/notebooks/data_table.ipynb>data table notebook</a>'\n",
              "            + ' to learn more about interactive tables.';\n",
              "          element.innerHTML = '';\n",
              "          dataTable['output_type'] = 'display_data';\n",
              "          await google.colab.output.renderOutput(dataTable, element);\n",
              "          const docLink = document.createElement('div');\n",
              "          docLink.innerHTML = docLinkHtml;\n",
              "          element.appendChild(docLink);\n",
              "        }\n",
              "      </script>\n",
              "    </div>\n",
              "  </div>\n",
              "  "
            ]
          },
          "metadata": {},
          "execution_count": 4
        }
      ]
    },
    {
      "cell_type": "markdown",
      "metadata": {
        "id": "y02VT4gUyG7l"
      },
      "source": [
        "2. There are some duplicate rows of data. Use [.drop_duplicate()](https://pandas.pydata.org/pandas-docs/stable/reference/api/pandas.DataFrame.drop_duplicates.html#pandas.DataFrame.drop_duplicates) to remove the duplicates. Make sure you print out the number of records (movies) in the dataset before and after duplicate removal."
      ]
    },
    {
      "cell_type": "code",
      "source": [
        "len(df) # number of records before duplicate removal"
      ],
      "metadata": {
        "id": "n_CM3qoVkkGs",
        "outputId": "49349e0e-c407-4b80-dcc0-b25311ce339b",
        "colab": {
          "base_uri": "https://localhost:8080/"
        }
      },
      "execution_count": 5,
      "outputs": [
        {
          "output_type": "execute_result",
          "data": {
            "text/plain": [
              "5043"
            ]
          },
          "metadata": {},
          "execution_count": 5
        }
      ]
    },
    {
      "cell_type": "code",
      "source": [
        "df.drop_duplicates(inplace= True) # '(inplace= True)' conserves changes"
      ],
      "metadata": {
        "id": "hKhaoaIZlH5M"
      },
      "execution_count": 6,
      "outputs": []
    },
    {
      "cell_type": "code",
      "source": [
        "len(df) # number of records after duplicate removal"
      ],
      "metadata": {
        "id": "nTb7zAQ4lLhZ",
        "outputId": "fb903cfa-1389-43be-f521-ccfaf3d9a2bb",
        "colab": {
          "base_uri": "https://localhost:8080/"
        }
      },
      "execution_count": 7,
      "outputs": [
        {
          "output_type": "execute_result",
          "data": {
            "text/plain": [
              "4998"
            ]
          },
          "metadata": {},
          "execution_count": 7
        }
      ]
    },
    {
      "cell_type": "markdown",
      "metadata": {
        "id": "waq6KZvLy4Gw"
      },
      "source": [
        "3. Try to slice the data for a movie_title called \"Avatar\"; can you find that? If not, it is probably because many movie titles have some whitespaces before/after the title; they might have been generated during the data collection. Use [.str.strip()](https://pandas.pydata.org/pandas-docs/stable/reference/api/pandas.Series.str.strip.html) to remove them whitespaces. Try again to slice the dataset for movie_title of \"Avatar\"."
      ]
    },
    {
      "cell_type": "code",
      "source": [
        "# MY SOLUTION:\n",
        "\n",
        "df['movie_title'] = df.movie_title.str.strip #(to_strip=None) \n",
        "  # (1) Include '(to_strip=None)' strips whitespaces\n",
        "  # (2) Make sure to include the column name after the DataFrame name because '.str.strip()' is a series method\n",
        "  # (3) Store the stripped column back into the DataFrame–rassign to 'movie title'\n",
        "df[df.movie_title=='Avatar'] # Slices for Avatar in movie_title\n",
        "\n",
        "# PROFESSOR'S SOLUTION: df.loc[df.movie_title=='Avatar']"
      ],
      "metadata": {
        "id": "GUD421LKlfol",
        "colab": {
          "base_uri": "https://localhost:8080/",
          "height": 142
        },
        "outputId": "30947ebe-70f7-48a6-834d-c7539fdb6137"
      },
      "execution_count": 8,
      "outputs": [
        {
          "output_type": "execute_result",
          "data": {
            "text/plain": [
              "Empty DataFrame\n",
              "Columns: [color, director_name, num_critic_for_reviews, duration, director_facebook_likes, actor_3_facebook_likes, actor_2_name, actor_1_facebook_likes, gross, genres, actor_1_name, movie_title, num_voted_users, cast_total_facebook_likes, actor_3_name, facenumber_in_poster, plot_keywords, movie_imdb_link, num_user_for_reviews, language, country, content_rating, budget, title_year, actor_2_facebook_likes, imdb_score, aspect_ratio, movie_facebook_likes]\n",
              "Index: []\n",
              "\n",
              "[0 rows x 28 columns]"
            ],
            "text/html": [
              "\n",
              "  <div id=\"df-78b0c8d1-4553-45d6-b5b3-195059a9118a\">\n",
              "    <div class=\"colab-df-container\">\n",
              "      <div>\n",
              "<style scoped>\n",
              "    .dataframe tbody tr th:only-of-type {\n",
              "        vertical-align: middle;\n",
              "    }\n",
              "\n",
              "    .dataframe tbody tr th {\n",
              "        vertical-align: top;\n",
              "    }\n",
              "\n",
              "    .dataframe thead th {\n",
              "        text-align: right;\n",
              "    }\n",
              "</style>\n",
              "<table border=\"1\" class=\"dataframe\">\n",
              "  <thead>\n",
              "    <tr style=\"text-align: right;\">\n",
              "      <th></th>\n",
              "      <th>color</th>\n",
              "      <th>director_name</th>\n",
              "      <th>num_critic_for_reviews</th>\n",
              "      <th>duration</th>\n",
              "      <th>director_facebook_likes</th>\n",
              "      <th>actor_3_facebook_likes</th>\n",
              "      <th>actor_2_name</th>\n",
              "      <th>actor_1_facebook_likes</th>\n",
              "      <th>gross</th>\n",
              "      <th>genres</th>\n",
              "      <th>...</th>\n",
              "      <th>num_user_for_reviews</th>\n",
              "      <th>language</th>\n",
              "      <th>country</th>\n",
              "      <th>content_rating</th>\n",
              "      <th>budget</th>\n",
              "      <th>title_year</th>\n",
              "      <th>actor_2_facebook_likes</th>\n",
              "      <th>imdb_score</th>\n",
              "      <th>aspect_ratio</th>\n",
              "      <th>movie_facebook_likes</th>\n",
              "    </tr>\n",
              "  </thead>\n",
              "  <tbody>\n",
              "  </tbody>\n",
              "</table>\n",
              "<p>0 rows × 28 columns</p>\n",
              "</div>\n",
              "      <button class=\"colab-df-convert\" onclick=\"convertToInteractive('df-78b0c8d1-4553-45d6-b5b3-195059a9118a')\"\n",
              "              title=\"Convert this dataframe to an interactive table.\"\n",
              "              style=\"display:none;\">\n",
              "        \n",
              "  <svg xmlns=\"http://www.w3.org/2000/svg\" height=\"24px\"viewBox=\"0 0 24 24\"\n",
              "       width=\"24px\">\n",
              "    <path d=\"M0 0h24v24H0V0z\" fill=\"none\"/>\n",
              "    <path d=\"M18.56 5.44l.94 2.06.94-2.06 2.06-.94-2.06-.94-.94-2.06-.94 2.06-2.06.94zm-11 1L8.5 8.5l.94-2.06 2.06-.94-2.06-.94L8.5 2.5l-.94 2.06-2.06.94zm10 10l.94 2.06.94-2.06 2.06-.94-2.06-.94-.94-2.06-.94 2.06-2.06.94z\"/><path d=\"M17.41 7.96l-1.37-1.37c-.4-.4-.92-.59-1.43-.59-.52 0-1.04.2-1.43.59L10.3 9.45l-7.72 7.72c-.78.78-.78 2.05 0 2.83L4 21.41c.39.39.9.59 1.41.59.51 0 1.02-.2 1.41-.59l7.78-7.78 2.81-2.81c.8-.78.8-2.07 0-2.86zM5.41 20L4 18.59l7.72-7.72 1.47 1.35L5.41 20z\"/>\n",
              "  </svg>\n",
              "      </button>\n",
              "      \n",
              "  <style>\n",
              "    .colab-df-container {\n",
              "      display:flex;\n",
              "      flex-wrap:wrap;\n",
              "      gap: 12px;\n",
              "    }\n",
              "\n",
              "    .colab-df-convert {\n",
              "      background-color: #E8F0FE;\n",
              "      border: none;\n",
              "      border-radius: 50%;\n",
              "      cursor: pointer;\n",
              "      display: none;\n",
              "      fill: #1967D2;\n",
              "      height: 32px;\n",
              "      padding: 0 0 0 0;\n",
              "      width: 32px;\n",
              "    }\n",
              "\n",
              "    .colab-df-convert:hover {\n",
              "      background-color: #E2EBFA;\n",
              "      box-shadow: 0px 1px 2px rgba(60, 64, 67, 0.3), 0px 1px 3px 1px rgba(60, 64, 67, 0.15);\n",
              "      fill: #174EA6;\n",
              "    }\n",
              "\n",
              "    [theme=dark] .colab-df-convert {\n",
              "      background-color: #3B4455;\n",
              "      fill: #D2E3FC;\n",
              "    }\n",
              "\n",
              "    [theme=dark] .colab-df-convert:hover {\n",
              "      background-color: #434B5C;\n",
              "      box-shadow: 0px 1px 3px 1px rgba(0, 0, 0, 0.15);\n",
              "      filter: drop-shadow(0px 1px 2px rgba(0, 0, 0, 0.3));\n",
              "      fill: #FFFFFF;\n",
              "    }\n",
              "  </style>\n",
              "\n",
              "      <script>\n",
              "        const buttonEl =\n",
              "          document.querySelector('#df-78b0c8d1-4553-45d6-b5b3-195059a9118a button.colab-df-convert');\n",
              "        buttonEl.style.display =\n",
              "          google.colab.kernel.accessAllowed ? 'block' : 'none';\n",
              "\n",
              "        async function convertToInteractive(key) {\n",
              "          const element = document.querySelector('#df-78b0c8d1-4553-45d6-b5b3-195059a9118a');\n",
              "          const dataTable =\n",
              "            await google.colab.kernel.invokeFunction('convertToInteractive',\n",
              "                                                     [key], {});\n",
              "          if (!dataTable) return;\n",
              "\n",
              "          const docLinkHtml = 'Like what you see? Visit the ' +\n",
              "            '<a target=\"_blank\" href=https://colab.research.google.com/notebooks/data_table.ipynb>data table notebook</a>'\n",
              "            + ' to learn more about interactive tables.';\n",
              "          element.innerHTML = '';\n",
              "          dataTable['output_type'] = 'display_data';\n",
              "          await google.colab.output.renderOutput(dataTable, element);\n",
              "          const docLink = document.createElement('div');\n",
              "          docLink.innerHTML = docLinkHtml;\n",
              "          element.appendChild(docLink);\n",
              "        }\n",
              "      </script>\n",
              "    </div>\n",
              "  </div>\n",
              "  "
            ]
          },
          "metadata": {},
          "execution_count": 8
        }
      ]
    },
    {
      "cell_type": "markdown",
      "source": [
        "4. Drop all the movies with title_year of less than 2000. Those are considered too old to be used for predictive purposes."
      ],
      "metadata": {
        "id": "0IEo58CNZaIa"
      }
    },
    {
      "cell_type": "code",
      "source": [
        "# MY SOLUTION: df.drop(df[df['title_year']>2000].index,inplace=True)\n",
        "  # (-) Solution was taken from https://thispointer.com/python-pandas-how-to-drop-rows-in-dataframe-by-conditions-on-column-values/\n",
        "  # (-) 'inplace=True' is needed to preserve changes"
      ],
      "metadata": {
        "id": "Xmw-5mpf6VzL"
      },
      "execution_count": 9,
      "outputs": []
    },
    {
      "cell_type": "code",
      "source": [
        "# PROFESSOR'S SOLUTION:\n",
        "df = df.loc[df.title_year>=2000] # Just restores sliced data into df without having to use .drop()"
      ],
      "metadata": {
        "id": "RlS_u3RjGPUz"
      },
      "execution_count": 10,
      "outputs": []
    },
    {
      "cell_type": "markdown",
      "source": [
        "5. Drop the movies with missing values. Print the number of movies left."
      ],
      "metadata": {
        "id": "8aJaX8mWa4NO"
      }
    },
    {
      "cell_type": "code",
      "source": [
        "df.dropna(inplace=True) # '(inplace=True)' is needed to preserve changes\n",
        "len(df) # prints number of movies left"
      ],
      "metadata": {
        "colab": {
          "base_uri": "https://localhost:8080/"
        },
        "id": "RvAuW1KCOfNR",
        "outputId": "07715be4-1319-426f-a8bc-11884e5e1995"
      },
      "execution_count": 11,
      "outputs": [
        {
          "output_type": "execute_result",
          "data": {
            "text/plain": [
              "2703"
            ]
          },
          "metadata": {},
          "execution_count": 11
        }
      ]
    },
    {
      "cell_type": "markdown",
      "metadata": {
        "id": "LH7-cp10TXt5"
      },
      "source": [
        "##Data Preparation"
      ]
    },
    {
      "cell_type": "markdown",
      "metadata": {
        "id": "pw076SsgzBaF"
      },
      "source": [
        "6. Add two new columns to the dataset; one including the profit and another the ROI (Return on Investement) for each movie. We assume only half the gross revenue goes to the producer and the other half to the movie theaters and others. So, consider profit = gross/2 - budget and ROI = (profit/budget)*100."
      ]
    },
    {
      "cell_type": "code",
      "source": [
        "df['profit'] = df.gross/2 - df.budget\n",
        "\n",
        "df['ROI'] = df.profit/df.budget*100\n",
        "\n",
        "df[['profit', 'ROI']].head(1) # just to display that both columns were added correctly"
      ],
      "metadata": {
        "colab": {
          "base_uri": "https://localhost:8080/",
          "height": 80
        },
        "id": "NTwzlEAhQJLu",
        "outputId": "e30ff138-71e4-404e-cd2c-e60a744bb753"
      },
      "execution_count": 12,
      "outputs": [
        {
          "output_type": "execute_result",
          "data": {
            "text/plain": [
              "        profit        ROI\n",
              "0  143252923.5  60.444272"
            ],
            "text/html": [
              "\n",
              "  <div id=\"df-829237d6-b970-46db-b25c-e2e906bfe8d3\">\n",
              "    <div class=\"colab-df-container\">\n",
              "      <div>\n",
              "<style scoped>\n",
              "    .dataframe tbody tr th:only-of-type {\n",
              "        vertical-align: middle;\n",
              "    }\n",
              "\n",
              "    .dataframe tbody tr th {\n",
              "        vertical-align: top;\n",
              "    }\n",
              "\n",
              "    .dataframe thead th {\n",
              "        text-align: right;\n",
              "    }\n",
              "</style>\n",
              "<table border=\"1\" class=\"dataframe\">\n",
              "  <thead>\n",
              "    <tr style=\"text-align: right;\">\n",
              "      <th></th>\n",
              "      <th>profit</th>\n",
              "      <th>ROI</th>\n",
              "    </tr>\n",
              "  </thead>\n",
              "  <tbody>\n",
              "    <tr>\n",
              "      <th>0</th>\n",
              "      <td>143252923.5</td>\n",
              "      <td>60.444272</td>\n",
              "    </tr>\n",
              "  </tbody>\n",
              "</table>\n",
              "</div>\n",
              "      <button class=\"colab-df-convert\" onclick=\"convertToInteractive('df-829237d6-b970-46db-b25c-e2e906bfe8d3')\"\n",
              "              title=\"Convert this dataframe to an interactive table.\"\n",
              "              style=\"display:none;\">\n",
              "        \n",
              "  <svg xmlns=\"http://www.w3.org/2000/svg\" height=\"24px\"viewBox=\"0 0 24 24\"\n",
              "       width=\"24px\">\n",
              "    <path d=\"M0 0h24v24H0V0z\" fill=\"none\"/>\n",
              "    <path d=\"M18.56 5.44l.94 2.06.94-2.06 2.06-.94-2.06-.94-.94-2.06-.94 2.06-2.06.94zm-11 1L8.5 8.5l.94-2.06 2.06-.94-2.06-.94L8.5 2.5l-.94 2.06-2.06.94zm10 10l.94 2.06.94-2.06 2.06-.94-2.06-.94-.94-2.06-.94 2.06-2.06.94z\"/><path d=\"M17.41 7.96l-1.37-1.37c-.4-.4-.92-.59-1.43-.59-.52 0-1.04.2-1.43.59L10.3 9.45l-7.72 7.72c-.78.78-.78 2.05 0 2.83L4 21.41c.39.39.9.59 1.41.59.51 0 1.02-.2 1.41-.59l7.78-7.78 2.81-2.81c.8-.78.8-2.07 0-2.86zM5.41 20L4 18.59l7.72-7.72 1.47 1.35L5.41 20z\"/>\n",
              "  </svg>\n",
              "      </button>\n",
              "      \n",
              "  <style>\n",
              "    .colab-df-container {\n",
              "      display:flex;\n",
              "      flex-wrap:wrap;\n",
              "      gap: 12px;\n",
              "    }\n",
              "\n",
              "    .colab-df-convert {\n",
              "      background-color: #E8F0FE;\n",
              "      border: none;\n",
              "      border-radius: 50%;\n",
              "      cursor: pointer;\n",
              "      display: none;\n",
              "      fill: #1967D2;\n",
              "      height: 32px;\n",
              "      padding: 0 0 0 0;\n",
              "      width: 32px;\n",
              "    }\n",
              "\n",
              "    .colab-df-convert:hover {\n",
              "      background-color: #E2EBFA;\n",
              "      box-shadow: 0px 1px 2px rgba(60, 64, 67, 0.3), 0px 1px 3px 1px rgba(60, 64, 67, 0.15);\n",
              "      fill: #174EA6;\n",
              "    }\n",
              "\n",
              "    [theme=dark] .colab-df-convert {\n",
              "      background-color: #3B4455;\n",
              "      fill: #D2E3FC;\n",
              "    }\n",
              "\n",
              "    [theme=dark] .colab-df-convert:hover {\n",
              "      background-color: #434B5C;\n",
              "      box-shadow: 0px 1px 3px 1px rgba(0, 0, 0, 0.15);\n",
              "      filter: drop-shadow(0px 1px 2px rgba(0, 0, 0, 0.3));\n",
              "      fill: #FFFFFF;\n",
              "    }\n",
              "  </style>\n",
              "\n",
              "      <script>\n",
              "        const buttonEl =\n",
              "          document.querySelector('#df-829237d6-b970-46db-b25c-e2e906bfe8d3 button.colab-df-convert');\n",
              "        buttonEl.style.display =\n",
              "          google.colab.kernel.accessAllowed ? 'block' : 'none';\n",
              "\n",
              "        async function convertToInteractive(key) {\n",
              "          const element = document.querySelector('#df-829237d6-b970-46db-b25c-e2e906bfe8d3');\n",
              "          const dataTable =\n",
              "            await google.colab.kernel.invokeFunction('convertToInteractive',\n",
              "                                                     [key], {});\n",
              "          if (!dataTable) return;\n",
              "\n",
              "          const docLinkHtml = 'Like what you see? Visit the ' +\n",
              "            '<a target=\"_blank\" href=https://colab.research.google.com/notebooks/data_table.ipynb>data table notebook</a>'\n",
              "            + ' to learn more about interactive tables.';\n",
              "          element.innerHTML = '';\n",
              "          dataTable['output_type'] = 'display_data';\n",
              "          await google.colab.output.renderOutput(dataTable, element);\n",
              "          const docLink = document.createElement('div');\n",
              "          docLink.innerHTML = docLinkHtml;\n",
              "          element.appendChild(docLink);\n",
              "        }\n",
              "      </script>\n",
              "    </div>\n",
              "  </div>\n",
              "  "
            ]
          },
          "metadata": {},
          "execution_count": 12
        }
      ]
    },
    {
      "cell_type": "markdown",
      "metadata": {
        "id": "ceySatswzPMA"
      },
      "source": [
        "7. Add another column that calculated a new quality rating for the movies. The new rating called \"imdb_quality\" would be the imdb_score multiplied by the num_user_for_reviews. We susspect this may be a better predictor of movie success.\n"
      ]
    },
    {
      "cell_type": "code",
      "source": [
        "df['imdv_quality'] = df.imdb_score * df.num_user_for_reviews"
      ],
      "metadata": {
        "id": "2QC8wj4Igeqg"
      },
      "execution_count": 13,
      "outputs": []
    },
    {
      "cell_type": "markdown",
      "source": [
        "8. Create five dummy/boolean variables as five new columns to the dataframe. The column names would be Action, Crime, Drama, Documentary, Romance. Action column should be True for any movie if 'Action' is inside its genres. That would be the case for other genre columns like Crime, Drama, etc. If you like, you can add more columns for other genres."
      ],
      "metadata": {
        "id": "6NBdg24_j7OJ"
      }
    },
    {
      "cell_type": "code",
      "source": [
        "# MY SOLUTION: Wrong because it only tests records with single movie genres\n",
        "  # df['Action'] = df.genres == 'Action'\n",
        "  # df['Crime'] = df.genres == 'Crime'\n",
        "  # df['Documentary'] = df.genres == 'Documentary'\n",
        "  # df['Romance'] = df.genres == 'Romance'\n",
        "  # df['Drama'] = df.genres == 'Drama'"
      ],
      "metadata": {
        "id": "TgAzV6B0TcCg"
      },
      "execution_count": 14,
      "outputs": []
    },
    {
      "cell_type": "code",
      "source": [
        "# PROFESSOR'S SOLUTION:\n",
        "  # (*)'Action' in df.genres -> to test a single row\n",
        "  # df['Action'] = ['Action' in x for x in df.genres] -> List that iterates through each cell in DataFrame column\n",
        "  # OR\n",
        "  # df.genres.map(lambda x: 'Action' in x)\n",
        "\n",
        "  # 1st BEST SOLUTION:\n",
        "dummies = df.genres.str.get_dummies(sep='|')\n",
        "df = pd.concat([df, dummies], axis = 1)\n",
        "\n",
        "  # 2nd BEST SOLUTION: with For loop\n",
        "    # for i in ['Action', 'Crime', 'Drama', 'Documentary', 'Romance']:\n",
        "    #   df[i] = df.genres.str.contains(i)\n",
        "\n",
        "  # 3rd BEST SOLUTION:\n",
        "    # df['Action'] = df.genres.str.contains('Action')\n",
        "    # df['Crime'] = df.genres.str.contains('Crime')\n",
        "    # df['Drama'] = df.genres.str.contains('Drama')\n",
        "    # df['Documentary'] = df.genres.str.contains('Documentary')\n",
        "    # df['Romance'] = df.genres.str.contains('Romance')"
      ],
      "metadata": {
        "id": "LKgZUYWjJVxO"
      },
      "execution_count": 15,
      "outputs": []
    },
    {
      "cell_type": "markdown",
      "source": [
        "9. Create a new boolean column  called \"profitable\" that specifies if the movie was profitable. We consider any movie as profitable if it has an ROI of 10 percent and over. In other words, the column should be True if the movie's ROI is equal or more than 10, and it should be False otherwise."
      ],
      "metadata": {
        "id": "iEbooekFf7qy"
      }
    },
    {
      "cell_type": "code",
      "source": [
        "PROFITABLE_PERCENTAGE = 10\n",
        "df['profitable'] = df.ROI >= PROFITABLE_PERCENTAGE"
      ],
      "metadata": {
        "id": "wenG2obLdWjl"
      },
      "execution_count": 16,
      "outputs": []
    },
    {
      "cell_type": "markdown",
      "source": [
        "10. Use One-Hot encoding to convert the content_rating variable to dummy variables, so we can feed it to ML algorithms. Drop the \"NC-17\" and \"Unrated\" and \"Not Rated\" dummy columns, because there are not many movies with those ratings."
      ],
      "metadata": {
        "id": "SDtGkOoyDf8s"
      }
    },
    {
      "cell_type": "code",
      "source": [
        "# MY SOLUTION:\n",
        "  # df.drop(df[df['content_rating']=='NC-17'].index,inplace=True)\n",
        "  # df.drop(df[df['content_rating']=='Unrated'].index,inplace=True)\n",
        "  # df.drop(df[df['content_rating']=='Not Rated'].index,inplace=True)\n",
        "\n",
        "  # df1 = pd.get_dummies(df, prefix='', prefix_sep='', columns=['content_rating'])"
      ],
      "metadata": {
        "id": "mioSbcPanb56"
      },
      "execution_count": 17,
      "outputs": []
    },
    {
      "cell_type": "code",
      "source": [
        "# PROFESSOR'S SOLUTION: \n",
        "  # ()\n",
        "df = pd.get_dummies(df, prefix='', prefix_sep='', columns=['content_rating'])"
      ],
      "metadata": {
        "id": "tn8KuRq_qeKR"
      },
      "execution_count": 18,
      "outputs": []
    },
    {
      "cell_type": "markdown",
      "metadata": {
        "id": "BSZxkwafDKEC"
      },
      "source": [
        "##Data Exploration & Visualization\n"
      ]
    },
    {
      "cell_type": "markdown",
      "metadata": {
        "id": "ic49GSumzfBt"
      },
      "source": [
        "11. Use [.corr()](https://pandas.pydata.org/pandas-docs/stable/reference/api/pandas.DataFrame.corr.html#pandas.DataFrame.corr) function to calculate the pairwise correlation between all variables. Slice the correlation dataframe to see only the profitable column. Sort the column descendingly, so we can see which variables correlate the most with profittable."
      ]
    },
    {
      "cell_type": "code",
      "source": [
        "crl = df.corr() # Correlation numbers are determined good-bad based on context\n",
        "crl = crl.profitable.sort_values(ascending= False)"
      ],
      "metadata": {
        "id": "qhzasIxarI4y"
      },
      "execution_count": 19,
      "outputs": []
    },
    {
      "cell_type": "markdown",
      "metadata": {
        "id": "sbQV7KJsDSTj"
      },
      "source": [
        "12. Who are the most 10 profitable directors in the industry in terms of the highest average ROI? **Hint:** groupby your data based on the director name and use a mean function to aggregate their ROI. The use [.nlargets()](https://pandas.pydata.org/pandas-docs/stable/reference/api/pandas.DataFrame.nlargest.html#pandas.DataFrame.nlargest) function to receive the top 10 or so of the directors. Visualize the result using a line plot. Properly title the plot and label the axes. Rotate the axes labels, if needed, to make sure the director names are properly shown."
      ]
    },
    {
      "cell_type": "code",
      "source": [
        "director_roi = df.groupby('director_name').ROI.mean().nlargest(10)\n",
        "\n",
        "plt.plot(director_roi)\n",
        "plt.xticks(rotation=90)\n",
        "plt.title('Directors with top 10 highest ROI')\n",
        "plt.show()"
      ],
      "metadata": {
        "colab": {
          "base_uri": "https://localhost:8080/",
          "height": 364
        },
        "id": "UD-CzuEetHjN",
        "outputId": "de7cf694-ace2-466f-b57b-1a4c32513430"
      },
      "execution_count": 20,
      "outputs": [
        {
          "output_type": "display_data",
          "data": {
            "text/plain": [
              "<Figure size 432x288 with 1 Axes>"
            ],
            "image/png": "[encoded data removed]"
          },
          "metadata": {
            "needs_background": "light"
          }
        }
      ]
    },
    {
      "cell_type": "markdown",
      "metadata": {
        "id": "zvSipYTczhI4"
      },
      "source": [
        "13. create a [line plot](https://pandas.pydata.org/pandas-docs/stable/reference/api/pandas.DataFrame.plot.html#pandas.DataFrame.plot) that displays two lines: a green dashed line for average gross earning over the years, and a red dotted line for average budget over the years. Add proper legend for the plot. Properly title the plot and label the axes.\n"
      ]
    },
    {
      "cell_type": "code",
      "source": [
        "summ_df = df.groupby('title_year')['gross', 'budget'].mean()\n",
        "\n",
        "# Create line plot:\n",
        "plt.plot(summ_df.gross, color='g', linestyle='--', label='Gross Revenue ($)') # One row at a time\n",
        "plt.plot(summ_df.budget, color='r', linestyle='dotted', label='Budget ($)') # One row at a time\n",
        "plt.legend(loc='upper right')\n",
        "plt.show()"
      ],
      "metadata": {
        "colab": {
          "base_uri": "https://localhost:8080/",
          "height": 331
        },
        "id": "Y3o7zhXPvqlP",
        "outputId": "e663c1ff-d9ae-43f0-bffd-104a30d83b01"
      },
      "execution_count": 21,
      "outputs": [
        {
          "output_type": "stream",
          "name": "stderr",
          "text": [
            "/usr/local/lib/python3.7/dist-packages/ipykernel_launcher.py:1: FutureWarning: Indexing with multiple keys (implicitly converted to a tuple of keys) will be deprecated, use a list instead.\n",
            "  \"\"\"Entry point for launching an IPython kernel.\n"
          ]
        },
        {
          "output_type": "display_data",
          "data": {
            "text/plain": [
              "<Figure size 432x288 with 1 Axes>"
            ],
            "image/png": "[encoded data removed]"
          },
          "metadata": {
            "needs_background": "light"
          }
        }
      ]
    },
    {
      "cell_type": "markdown",
      "metadata": {
        "id": "yNB2vHtfziGa"
      },
      "source": [
        "14. Calculate the average imdb_score and average ROI for movies made by each director. Then create a [scatter plot](https://pandas.pydata.org/pandas-docs/stable/reference/api/pandas.DataFrame.plot.scatter.html#pandas.DataFrame.plot.scatter) that displays the two for all directors. Properly size the markers and title the plot and label the axes. Rotate the axes labels if needed.\n"
      ]
    },
    {
      "cell_type": "code",
      "source": [
        "df = df.loc[df.ROI<10000] # removing outliers\n",
        "\n",
        "# Group By:\n",
        "director_summ = df.groupby('director_name')['ROI', 'imdb_score'].mean()\n",
        "\n",
        "# Create scatterplot:\n",
        "plt.scatter(director_summ.imdb_score, director_summ.ROI, s=1)\n",
        "plt.show()"
      ],
      "metadata": {
        "colab": {
          "base_uri": "https://localhost:8080/",
          "height": 320
        },
        "id": "ONEmJAnEy18v",
        "outputId": "e2411cd7-dd7c-429b-c68a-5ef3e65b9204"
      },
      "execution_count": 22,
      "outputs": [
        {
          "output_type": "stream",
          "name": "stderr",
          "text": [
            "/usr/local/lib/python3.7/dist-packages/ipykernel_launcher.py:4: FutureWarning: Indexing with multiple keys (implicitly converted to a tuple of keys) will be deprecated, use a list instead.\n",
            "  after removing the cwd from sys.path.\n"
          ]
        },
        {
          "output_type": "display_data",
          "data": {
            "text/plain": [
              "<Figure size 432x288 with 1 Axes>"
            ],
            "image/png": "[encoded data removed]"
          },
          "metadata": {
            "needs_background": "light"
          }
        }
      ]
    },
    {
      "cell_type": "markdown",
      "source": [
        "##Modeling"
      ],
      "metadata": {
        "id": "EnPIcqsNqtaL"
      }
    },
    {
      "cell_type": "markdown",
      "source": [
        "15. Use [.select_dtypes()](https://pandas.pydata.org/docs/reference/api/pandas.DataFrame.select_dtypes.html) to drop the non-numerical (object) variables from the dataset (Boolean variables are considered numerical in Python, and can be used in models). Create a decision tree model to predict the \"profitable\" variable. Make sure to drop the 'profitable','roi','gross','profit' variables from the predictive dataset (X) because they are we calculated 'profitable' from them. Use train and test datasets and compare their accuracy to make sure you are not over-fitting. Tune the model to get the most accurate model you can.\n",
        "\n",
        "    Print the train and test accuracy rate, and plot the tree for your best model."
      ],
      "metadata": {
        "id": "tbmRXI6WOdQJ"
      }
    },
    {
      "cell_type": "code",
      "source": [
        "df = df.select_dtypes(exclude='object')\n",
        "\n",
        "from sklearn.model_selection import train_test_split\n",
        "from sklearn.tree import DecisionTreeClassifier\n",
        "from sklearn.metrics import accuracy_score, classification_report\n",
        "from sklearn.tree import plot_tree\n",
        "\n",
        "X = df.drop(['profitable', 'ROI', 'gross', 'profit'], axis=1)\n",
        "y = df.profitable\n",
        "\n",
        "X_train, X_test, y_train, y_test = train_test_split(X, y, test_size=0.2, stratify=y) # Always X first, then y\n",
        "dtc = DecisionTreeClassifier(max_depth=5, min_samples_leaf=0.04)\n",
        "\n",
        "dtc.fit(X_train, y_train)\n",
        "\n",
        "acc_tr = accuracy_score(y_train, dtc.predict(X_train))\n",
        "print('Model accuracy score for Training set:', acc_tr)\n",
        "\n",
        "acc_ts = accuracy_score(y_test, dtc.predict(X_test))\n",
        "print('Model accuracy score for Training set:', acc_ts)\n",
        "\n",
        "print(classification_report(y_test, dtc.predict(X_test)))\n",
        "\n",
        "plt.figure(dpi=200)\n",
        "plot_tree(dtc)\n",
        "plt.show()"
      ],
      "metadata": {
        "colab": {
          "base_uri": "https://localhost:8080/",
          "height": 857
        },
        "id": "27L1xtdPe3F9",
        "outputId": "9a5293a2-38cd-4f0a-830d-ecdb45a2ec37"
      },
      "execution_count": 23,
      "outputs": [
        {
          "output_type": "stream",
          "name": "stdout",
          "text": [
            "Model accuracy score for Training set: 0.8175925925925925\n",
            "Model accuracy score for Training set: 0.8314814814814815\n",
            "              precision    recall  f1-score   support\n",
            "\n",
            "       False       0.85      0.96      0.90       428\n",
            "        True       0.70      0.33      0.45       112\n",
            "\n",
            "    accuracy                           0.83       540\n",
            "   macro avg       0.77      0.65      0.67       540\n",
            "weighted avg       0.82      0.83      0.81       540\n",
            "\n"
          ]
        },
        {
          "output_type": "display_data",
          "data": {
            "text/plain": [
              "<Figure size 1200x800 with 1 Axes>"
            ],
            "image/png": "[encoded data removed]"
          },
          "metadata": {
            "needs_background": "light"
          }
        }
      ]
    },
    {
      "cell_type": "code",
      "source": [
        "X.iloc[:,9]"
      ],
      "metadata": {
        "colab": {
          "base_uri": "https://localhost:8080/"
        },
        "id": "AgO5R4dYX8-a",
        "outputId": "0eda0713-d2b5-4ea8-e8e7-61b25aac09e8"
      },
      "execution_count": 24,
      "outputs": [
        {
          "output_type": "execute_result",
          "data": {
            "text/plain": [
              "0       237000000.0\n",
              "1       300000000.0\n",
              "2       245000000.0\n",
              "3       250000000.0\n",
              "5       263700000.0\n",
              "           ...     \n",
              "5012     35000000.0\n",
              "5026         4500.0\n",
              "5027        10000.0\n",
              "5033         7000.0\n",
              "5042         1100.0\n",
              "Name: budget, Length: 2700, dtype: float64"
            ]
          },
          "metadata": {},
          "execution_count": 24
        }
      ]
    },
    {
      "cell_type": "markdown",
      "source": [
        "16. Create Random Forest model to predict the 'profitable' variable, like the previous question. You can use the same X and y datasets. Tune your model to get the best accuracy rate over the train and test datasets. Print the accuracy rates for your best model. "
      ],
      "metadata": {
        "id": "C2vsh9YLWtzE"
      }
    },
    {
      "cell_type": "code",
      "source": [
        "from sklearn.ensemble import RandomForestClassifier\n",
        "\n",
        "rfc = RandomForestClassifier(n_estimators=100,\n",
        "                             max_depth=9,\n",
        "                             min_samples_leaf=.03)\n",
        "\n",
        "rfc.fit(X_train, y_train)\n",
        "\n",
        "acc_rfc_train = accuracy_score(y_train, rfc.predict(X_train))\n",
        "print('Model accuracy score for Training set:', acc_rfc_train)\n",
        "\n",
        "acc_rfc_test = accuracy_score(y_test, rfc.predict(X_test))\n",
        "print('Model accuracy score for Training set:', acc_rfc_test)\n",
        "\n",
        "print(classification_report(y_test, rfc.predict(X_test)))\n",
        "\n",
        "plt.figure(dpi=200)\n",
        "plot_tree(dtc)\n",
        "plt.show()"
      ],
      "metadata": {
        "colab": {
          "base_uri": "https://localhost:8080/",
          "height": 984
        },
        "id": "f0L6bZFnYnCI",
        "outputId": "c3ade6d7-0150-4db8-e9ff-d9e8ade66c04"
      },
      "execution_count": 25,
      "outputs": [
        {
          "output_type": "stream",
          "name": "stdout",
          "text": [
            "Model accuracy score for Training set: 0.7921296296296296\n",
            "Model accuracy score for Training set: 0.7925925925925926\n",
            "              precision    recall  f1-score   support\n",
            "\n",
            "       False       0.79      1.00      0.88       428\n",
            "        True       0.00      0.00      0.00       112\n",
            "\n",
            "    accuracy                           0.79       540\n",
            "   macro avg       0.40      0.50      0.44       540\n",
            "weighted avg       0.63      0.79      0.70       540\n",
            "\n"
          ]
        },
        {
          "output_type": "stream",
          "name": "stderr",
          "text": [
            "/usr/local/lib/python3.7/dist-packages/sklearn/metrics/_classification.py:1318: UndefinedMetricWarning: Precision and F-score are ill-defined and being set to 0.0 in labels with no predicted samples. Use `zero_division` parameter to control this behavior.\n",
            "  _warn_prf(average, modifier, msg_start, len(result))\n",
            "/usr/local/lib/python3.7/dist-packages/sklearn/metrics/_classification.py:1318: UndefinedMetricWarning: Precision and F-score are ill-defined and being set to 0.0 in labels with no predicted samples. Use `zero_division` parameter to control this behavior.\n",
            "  _warn_prf(average, modifier, msg_start, len(result))\n",
            "/usr/local/lib/python3.7/dist-packages/sklearn/metrics/_classification.py:1318: UndefinedMetricWarning: Precision and F-score are ill-defined and being set to 0.0 in labels with no predicted samples. Use `zero_division` parameter to control this behavior.\n",
            "  _warn_prf(average, modifier, msg_start, len(result))\n"
          ]
        },
        {
          "output_type": "display_data",
          "data": {
            "text/plain": [
              "<Figure size 1200x800 with 1 Axes>"
            ],
            "image/png": "[encoded data removed]"
          },
          "metadata": {
            "needs_background": "light"
          }
        }
      ]
    },
    {
      "cell_type": "markdown",
      "source": [
        "17. Create a linear and a ridge regression model to predict \"roi\" variable. Make sure to drop the 'profitable', 'roi', 'gross', 'profit' variables from the predictive dataset (X) because they are closely claculated in relation to 'roi'. Use train and test datasets and compare their accuracy (error rate). Plot the coefficients to see which variables contribute most to movies' ROI. Which of the simple linear and ridge regressions work better?\n",
        "\n",
        "    **Note:** You need to normalize your X dataset before you create regression models."
      ],
      "metadata": {
        "id": "26JzaZT0YLKO"
      }
    },
    {
      "cell_type": "code",
      "source": [
        "help(max)"
      ],
      "metadata": {
        "colab": {
          "base_uri": "https://localhost:8080/"
        },
        "id": "5lu8rlVk-BGI",
        "outputId": "d85a2bc6-cac1-4472-f5f6-f0f5bc2067f6"
      },
      "execution_count": 26,
      "outputs": [
        {
          "output_type": "stream",
          "name": "stdout",
          "text": [
            "Help on built-in function max in module builtins:\n",
            "\n",
            "max(...)\n",
            "    max(iterable, *[, default=obj, key=func]) -> value\n",
            "    max(arg1, arg2, *args, *[, key=func]) -> value\n",
            "    \n",
            "    With a single iterable argument, return its biggest item. The\n",
            "    default keyword-only argument specifies an object to return if\n",
            "    the provided iterable is empty.\n",
            "    With two or more arguments, return the largest argument.\n",
            "\n"
          ]
        }
      ]
    }
  ]
}